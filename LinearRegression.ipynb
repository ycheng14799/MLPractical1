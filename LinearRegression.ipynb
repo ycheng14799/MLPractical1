{
 "cells": [
  {
   "cell_type": "code",
   "execution_count": 6,
   "metadata": {},
   "outputs": [],
   "source": [
    "import _pickle as cp\n",
    "import numpy as np\n",
    "import matplotlib.pyplot as plt \n",
    "from sklearn.linear_model import Ridge, Lasso\n",
    "from sklearn.preprocessing import PolynomialFeatures\n",
    "from sklearn.preprocessing import StandardScaler\n",
    "from sklearn.pipeline import make_pipeline"
   ]
  },
  {
   "cell_type": "code",
   "execution_count": 7,
   "metadata": {},
   "outputs": [],
   "source": [
    "# Load dataset \n",
    "X,y = cp.load(open('winequality-white.pickle', 'rb'))\n",
    "\n",
    "# Split into training and test\n",
    "N, D = X.shape\n",
    "NTrain = int(0.8*N)\n",
    "NTest = N - NTrain \n",
    "XTrain = X[:NTrain]\n",
    "yTrain = y[:NTrain]\n",
    "XTest = X[NTrain:]\n",
    "yTest = y[NTrain:]"
   ]
  },
  {
   "cell_type": "code",
   "execution_count": 8,
   "metadata": {},
   "outputs": [
    {
     "data": {
      "text/plain": [
       "Text(0.5, 0.98, 'Distribution of Wine Quality')"
      ]
     },
     "execution_count": 8,
     "metadata": {},
     "output_type": "execute_result"
    },
    {
     "data": {
      "image/png": "[encoded data removed]",
      "text/plain": [
       "<Figure size 432x288 with 1 Axes>"
      ]
     },
     "metadata": {
      "needs_background": "light"
     },
     "output_type": "display_data"
    }
   ],
   "source": [
    "# Visualize distribution of y \n",
    "binMin = 3\n",
    "binMax = 9\n",
    "bins = np.linspace(binMin, binMax, binMax - binMin + 1)\n",
    "plt.figure()\n",
    "plt.hist(y, bins)\n",
    "plt.xlabel('Wine Quality')\n",
    "plt.ylabel('Wines')\n",
    "plt.suptitle('Distribution of Wine Quality')"
   ]
  },
  {
   "cell_type": "code",
   "execution_count": 9,
   "metadata": {},
   "outputs": [
    {
     "name": "stdout",
     "output_type": "stream",
     "text": [
      "Baseline MSE: 0.78419554751975\n"
     ]
    }
   ],
   "source": [
    "# Calculate baseline mean square error \n",
    "yAvg = np.mean(y)\n",
    "baselineMSE = np.mean(np.square(y - yAvg))\n",
    "print(\"Baseline MSE: \" + str(baselineMSE))"
   ]
  },
  {
   "cell_type": "code",
   "execution_count": 10,
   "metadata": {},
   "outputs": [
    {
     "name": "stdout",
     "output_type": "stream",
     "text": [
      "Train MSE: 0.5639996173941925\n",
      "Test MSE: 0.5620667306625963\n"
     ]
    }
   ],
   "source": [
    "# Linear Model Using Least Squares \n",
    "# Standardize data\n",
    "XTrainAvg = np.mean(XTrain, axis=0)\n",
    "XTestAvg = np.mean(XTest, axis=0)\n",
    "XTrainMeanShift = XTrain - XTrainAvg\n",
    "XTestMeanShift = XTest - XTestAvg\n",
    "XTrainStandardized = XTrainMeanShift / np.std(XTrainMeanShift, axis=0)\n",
    "XTestStandardized = XTestMeanShift / np.std(XTestMeanShift,axis=0)\n",
    "\n",
    "x0 = np.array([np.ones(XTrainStandardized.shape[0])]).T\n",
    "XTrainStandardized = np.concatenate((x0, XTrainStandardized), axis=1)\n",
    "\n",
    "x0Test = np.array([np.ones(XTestStandardized.shape[0])]).T\n",
    "XTestStandardized = np.concatenate((x0Test, XTestStandardized), axis=1)\n",
    "\n",
    "# Training \n",
    "XT = XTrainStandardized.T\n",
    "XTX = np.dot(XT, XTrainStandardized)\n",
    "XTXInv = np.linalg.inv(XTX)\n",
    "XTXInvXT = np.dot(XTXInv,XT)\n",
    "w = np.dot(XTXInvXT, yTrain)\n",
    "yTrainPred = np.dot(XTrainStandardized,w)\n",
    "\n",
    "# Training MSE \n",
    "trainMSE = np.mean(np.square(yTrainPred - yTrain))\n",
    "print(\"Train MSE: \" + str(trainMSE))\n",
    "\n",
    "# Test MSE\n",
    "yTestPred = np.dot(XTestStandardized,w)\n",
    "testMSE = np.mean(np.square(yTestPred - yTest))\n",
    "print(\"Test MSE: \" + str(testMSE))"
   ]
  },
  {
   "cell_type": "code",
   "execution_count": 11,
   "metadata": {},
   "outputs": [
    {
     "data": {
      "text/plain": [
       "Text(0.5, 0.98, 'Learning Curve')"
      ]
     },
     "execution_count": 11,
     "metadata": {},
     "output_type": "execute_result"
    },
    {
     "data": {
      "image/png": "[encoded data removed]",
      "text/plain": [
       "<Figure size 432x288 with 1 Axes>"
      ]
     },
     "metadata": {
      "needs_background": "light"
     },
     "output_type": "display_data"
    }
   ],
   "source": [
    "# Learning curves \n",
    "dataSizes = np.arange(20, 620, 20)\n",
    "trainMSEs = []\n",
    "testMSEs = []\n",
    "for i in range(0, len(dataSizes)):\n",
    "    subsetXTrain = XTrainStandardized[:dataSizes[i]]\n",
    "    subsetyTrain = yTrain[:dataSizes[i]]\n",
    "    XT = subsetXTrain.T\n",
    "    XTX = np.dot(XT, subsetXTrain)\n",
    "    XTXInv = np.linalg.inv(XTX)\n",
    "    XTXInvXT = np.dot(XTXInv,XT)\n",
    "    w = np.dot(XTXInvXT, subsetyTrain)\n",
    "    \n",
    "    yTrainPred = np.dot(subsetXTrain, w)\n",
    "    trainMSE = np.mean(np.square(yTrainPred - subsetyTrain))\n",
    "    trainMSEs.append(trainMSE)\n",
    "    # Test MSE \n",
    "    yTestPred = np.dot(XTestStandardized,w)\n",
    "    testMSE = np.mean(np.square(yTestPred - yTest))\n",
    "    testMSEs.append(testMSE)\n",
    "    \n",
    "plt.figure()\n",
    "plt.plot(dataSizes, trainMSEs, \"-o\", color=\"red\", label=\"Training Set\")\n",
    "plt.plot(dataSizes, testMSEs, \"-o\", color=\"blue\", label=\"Test Set\")\n",
    "plt.xlabel(\"Amount of Training Data\")\n",
    "plt.ylabel(\"MSE\")\n",
    "plt.legend()\n",
    "plt.suptitle(\"Learning Curve\")"
   ]
  },
  {
   "cell_type": "raw",
   "metadata": {},
   "source": [
    "\"\"\"\n",
    "We suspect the model is underfitting because both the training \n",
    "and test learning curves converged to around the same MSE, which does\n",
    "not decrease any further after training with approximately 150 examples. \n",
    "This indicates that the model is perhaps incapable of completely \n",
    "capturing the features of the data-set. As the model is underfitting, \n",
    "training with more data will likely not decrease the test error. \n",
    "\"\"\""
   ]
  },
  {
   "cell_type": "code",
   "execution_count": 81,
   "metadata": {},
   "outputs": [],
   "source": [
    "# Polynomial fit \n",
    "# Split into training, validation, and test\n",
    "N, D = X.shape\n",
    "numTrain = int(0.8*0.8*N)\n",
    "numValid = int(0.8*0.2*N)\n",
    "numTest = N - (numTrain + numValid)\n",
    "trainX = X[:numTrain]\n",
    "trainY = y[:numTrain]\n",
    "validX = X[numTrain:numTrain+numValid]\n",
    "validY = y[numTrain:numTrain+numValid]\n",
    "testX = X[numTrain+numValid:]\n",
    "testY = y[numTrain+numValid:]\n",
    "\n",
    "# Polynomial expansion of features \n",
    "poly = PolynomialFeatures(2)\n",
    "polyTrainX = poly.fit_transform(standardTrainX)\n",
    "polyValidX = poly.transform(standardValidX)\n",
    "polyTestX = poly.transform(standardTestX)"
   ]
  },
  {
   "cell_type": "code",
   "execution_count": null,
   "metadata": {},
   "outputs": [],
   "source": []
  }
 ],
 "metadata": {
  "kernelspec": {
   "display_name": "Python 3",
   "language": "python",
   "name": "python3"
  },
  "language_info": {
   "codemirror_mode": {
    "name": "ipython",
    "version": 3
   },
   "file_extension": ".py",
   "mimetype": "text/x-python",
   "name": "python",
   "nbconvert_exporter": "python",
   "pygments_lexer": "ipython3",
   "version": "3.7.4"
  }
 },
 "nbformat": 4,
 "nbformat_minor": 2
}
